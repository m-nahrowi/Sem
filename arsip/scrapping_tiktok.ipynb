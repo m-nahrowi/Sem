{
 "cells": [
  {
   "cell_type": "code",
   "execution_count": null,
   "metadata": {},
   "outputs": [
    {
     "name": "stdout",
     "output_type": "stream",
     "text": [
      "Requirement already satisfied: nest_asyncio in /opt/anaconda3/lib/python3.12/site-packages (1.6.0)\n"
     ]
    }
   ],
   "source": [
    "# !pip install TikTokApi requests\n",
    "# !pip install nest_asyncio"
   ]
  },
  {
   "cell_type": "code",
   "execution_count": 1,
   "metadata": {},
   "outputs": [],
   "source": [
    "from TikTokApi import TikTokApi\n",
    "import csv\n",
    "import time\n",
    "\n",
    "# Inisialisasi objek TikTokApi\n",
    "api = TikTokApi()"
   ]
  },
  {
   "cell_type": "code",
   "execution_count": null,
   "metadata": {},
   "outputs": [],
   "source": [
    "# pip install TikTokApi\n",
    "# python -m playwright install\n",
    "# https://www.tiktok.com/@totalpolitik/video/7434949945112743224?q=%23politik&t=1731630097478"
   ]
  },
  {
   "cell_type": "code",
   "execution_count": 10,
   "metadata": {},
   "outputs": [
    {
     "name": "stderr",
     "output_type": "stream",
     "text": [
      "Exception ignored in: <coroutine object ambil_komentar_tiktok at 0x10c7eb0f0>\n",
      "Traceback (most recent call last):\n",
      "  File \"<string>\", line 1, in <lambda>\n",
      "KeyError: '__import__'\n",
      "Exception ignored in: <coroutine object ambil_komentar_tiktok at 0x10c7eb0f0>\n",
      "Traceback (most recent call last):\n",
      "  File \"<string>\", line 1, in <lambda>\n",
      "KeyError: '__import__'\n"
     ]
    },
    {
     "ename": "AttributeError",
     "evalue": "'TikTokApi' object has no attribute 'browser'",
     "output_type": "error",
     "traceback": [
      "\u001b[0;31m---------------------------------------------------------------------------\u001b[0m",
      "\u001b[0;31mTypeError\u001b[0m                                 Traceback (most recent call last)",
      "Cell \u001b[0;32mIn[10], line 10\u001b[0m, in \u001b[0;36mambil_komentar_tiktok\u001b[0;34m(video_id, jumlah_komentar)\u001b[0m\n\u001b[1;32m      9\u001b[0m \u001b[38;5;28;01masync\u001b[39;00m \u001b[38;5;28;01mwith\u001b[39;00m TikTokApi() \u001b[38;5;28;01mas\u001b[39;00m api:\n\u001b[0;32m---> 10\u001b[0m     video \u001b[38;5;241m=\u001b[39m \u001b[38;5;28;01mawait\u001b[39;00m api\u001b[38;5;241m.\u001b[39mvideo(\u001b[38;5;28mid\u001b[39m\u001b[38;5;241m=\u001b[39mvideo_id)\n\u001b[1;32m     11\u001b[0m     komentar_list \u001b[38;5;241m=\u001b[39m []\n",
      "\u001b[0;31mTypeError\u001b[0m: object Video can't be used in 'await' expression",
      "\nDuring handling of the above exception, another exception occurred:\n",
      "\u001b[0;31mAttributeError\u001b[0m                            Traceback (most recent call last)",
      "Cell \u001b[0;32mIn[10], line 36\u001b[0m\n\u001b[1;32m     33\u001b[0m jumlah_komentar \u001b[38;5;241m=\u001b[39m \u001b[38;5;241m50\u001b[39m  \u001b[38;5;66;03m# Jumlah komentar yang ingin diambil\u001b[39;00m\n\u001b[1;32m     35\u001b[0m \u001b[38;5;66;03m# Menjalankan fungsi asynchronous\u001b[39;00m\n\u001b[0;32m---> 36\u001b[0m \u001b[38;5;28;01mawait\u001b[39;00m ambil_komentar_tiktok(video_id, jumlah_komentar)\n",
      "Cell \u001b[0;32mIn[10], line 9\u001b[0m, in \u001b[0;36mambil_komentar_tiktok\u001b[0;34m(video_id, jumlah_komentar)\u001b[0m\n\u001b[1;32m      8\u001b[0m \u001b[38;5;28;01masync\u001b[39;00m \u001b[38;5;28;01mdef\u001b[39;00m \u001b[38;5;21mambil_komentar_tiktok\u001b[39m(video_id, jumlah_komentar):\n\u001b[0;32m----> 9\u001b[0m     \u001b[38;5;28;01masync\u001b[39;00m \u001b[38;5;28;01mwith\u001b[39;00m TikTokApi() \u001b[38;5;28;01mas\u001b[39;00m api:\n\u001b[1;32m     10\u001b[0m         video \u001b[38;5;241m=\u001b[39m \u001b[38;5;28;01mawait\u001b[39;00m api\u001b[38;5;241m.\u001b[39mvideo(\u001b[38;5;28mid\u001b[39m\u001b[38;5;241m=\u001b[39mvideo_id)\n\u001b[1;32m     11\u001b[0m         komentar_list \u001b[38;5;241m=\u001b[39m []\n",
      "File \u001b[0;32m/opt/anaconda3/lib/python3.12/site-packages/TikTokApi/tiktok.py:497\u001b[0m, in \u001b[0;36mTikTokApi.__aexit__\u001b[0;34m(self, exc_type, exc, tb)\u001b[0m\n\u001b[1;32m    495\u001b[0m \u001b[38;5;28;01masync\u001b[39;00m \u001b[38;5;28;01mdef\u001b[39;00m \u001b[38;5;21m__aexit__\u001b[39m(\u001b[38;5;28mself\u001b[39m, exc_type, exc, tb):\n\u001b[1;32m    496\u001b[0m     \u001b[38;5;28;01mawait\u001b[39;00m \u001b[38;5;28mself\u001b[39m\u001b[38;5;241m.\u001b[39mclose_sessions()\n\u001b[0;32m--> 497\u001b[0m     \u001b[38;5;28;01mawait\u001b[39;00m \u001b[38;5;28mself\u001b[39m\u001b[38;5;241m.\u001b[39mstop_playwright()\n",
      "File \u001b[0;32m/opt/anaconda3/lib/python3.12/site-packages/TikTokApi/tiktok.py:484\u001b[0m, in \u001b[0;36mTikTokApi.stop_playwright\u001b[0;34m(self)\u001b[0m\n\u001b[1;32m    482\u001b[0m \u001b[38;5;28;01masync\u001b[39;00m \u001b[38;5;28;01mdef\u001b[39;00m \u001b[38;5;21mstop_playwright\u001b[39m(\u001b[38;5;28mself\u001b[39m):\n\u001b[1;32m    483\u001b[0m \u001b[38;5;250m    \u001b[39m\u001b[38;5;124;03m\"\"\"Stop the playwright browser\"\"\"\u001b[39;00m\n\u001b[0;32m--> 484\u001b[0m     \u001b[38;5;28;01mawait\u001b[39;00m \u001b[38;5;28mself\u001b[39m\u001b[38;5;241m.\u001b[39mbrowser\u001b[38;5;241m.\u001b[39mclose()\n\u001b[1;32m    485\u001b[0m     \u001b[38;5;28;01mawait\u001b[39;00m \u001b[38;5;28mself\u001b[39m\u001b[38;5;241m.\u001b[39mplaywright\u001b[38;5;241m.\u001b[39mstop()\n",
      "\u001b[0;31mAttributeError\u001b[0m: 'TikTokApi' object has no attribute 'browser'"
     ]
    }
   ],
   "source": [
    "import csv\n",
    "import nest_asyncio\n",
    "import asyncio\n",
    "from TikTokApi import TikTokApi\n",
    "\n",
    "nest_asyncio.apply()  # Mengizinkan event loop berjalan di Jupyter Notebook atau lingkungan serupa\n",
    "\n",
    "async def ambil_komentar_tiktok(video_id, jumlah_komentar):\n",
    "    async with TikTokApi() as api:\n",
    "        video = await api.video(id=video_id)\n",
    "        komentar_list = []\n",
    "        \n",
    "        # Menggunakan async for untuk mengiterasi async_generator\n",
    "        async for komentar in video.comments(count=jumlah_komentar):\n",
    "            komentar_list.append({\n",
    "                'Username': komentar.author.username,\n",
    "                'Teks Komentar': komentar.text,\n",
    "                'Jumlah Likes': komentar.likes_count,\n",
    "                'Timestamp': komentar.created_at\n",
    "            })\n",
    "\n",
    "        # Menyimpan data ke dalam file CSV\n",
    "        with open('komentar_tiktok.csv', mode='w', newline='', encoding='utf-8') as file_csv:\n",
    "            fieldnames = ['Username', 'Teks Komentar', 'Jumlah Likes', 'Timestamp']\n",
    "            writer = csv.DictWriter(file_csv, fieldnames=fieldnames)\n",
    "            writer.writeheader()\n",
    "            writer.writerows(komentar_list)\n",
    "\n",
    "        print(\"Data berhasil disimpan ke dalam file komentar_tiktok.csv\")\n",
    "\n",
    "# ID video TikTok yang ingin Anda ambil komentarnya\n",
    "video_id = '7434949945112743224'\n",
    "jumlah_komentar = 50  # Jumlah komentar yang ingin diambil\n",
    "\n",
    "# Menjalankan fungsi asynchronous\n",
    "await ambil_komentar_tiktok(video_id, jumlah_komentar)"
   ]
  },
  {
   "cell_type": "code",
   "execution_count": 15,
   "metadata": {},
   "outputs": [],
   "source": [
    "# video_id = '1731630097478'  # Ganti dengan ID video TikTok yang ingin Anda ambil komentarnya\n",
    "# jumlah_komentar = 20              # Jumlah komentar yang ingin diambil\n",
    "\n",
    "# # Mengambil komentar dari video\n",
    "# komentar_list = api.get_video_comments(video_id, count=jumlah_komentar)\n",
    "\n",
    "# # Menampilkan informasi dasar dari setiap komentar\n",
    "# for komentar in komentar_list:\n",
    "#     print(f\"Username: {komentar['user']['uniqueId']}\")\n",
    "#     print(f\"Teks Komentar: {komentar['text']}\")\n",
    "#     print(f\"Jumlah Likes: {komentar['diggCount']}\")\n",
    "#     print(f\"Timestamp: {komentar['createTime']}\")\n",
    "#     print(\"-\" * 50)"
   ]
  }
 ],
 "metadata": {
  "kernelspec": {
   "display_name": "base",
   "language": "python",
   "name": "python3"
  },
  "language_info": {
   "codemirror_mode": {
    "name": "ipython",
    "version": 3
   },
   "file_extension": ".py",
   "mimetype": "text/x-python",
   "name": "python",
   "nbconvert_exporter": "python",
   "pygments_lexer": "ipython3",
   "version": "3.12.7"
  }
 },
 "nbformat": 4,
 "nbformat_minor": 2
}
