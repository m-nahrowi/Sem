{
 "cells": [
  {
   "cell_type": "code",
   "execution_count": 11,
   "id": "02ac20fd-9544-45ff-a706-f24956c9bfbf",
   "metadata": {},
   "outputs": [],
   "source": [
    "# menggabungangkan file csv\n",
    "\n",
    "import os\n",
    "import pandas as pd"
   ]
  },
  {
   "cell_type": "code",
   "execution_count": 12,
   "id": "ea089317-5981-44ba-b5d8-1e5e876b7ab1",
   "metadata": {},
   "outputs": [
    {
     "name": "stdout",
     "output_type": "stream",
     "text": [
      "/Users/nahrowi/Documents/UGM/TesisSemhas\n"
     ]
    }
   ],
   "source": [
    "# lokasi data\n",
    "current_dir = os.getcwd()\n",
    "print(current_dir)"
   ]
  },
  {
   "cell_type": "code",
   "execution_count": 13,
   "id": "9583f7e4-0262-4fa8-8e2f-fbd47875c316",
   "metadata": {},
   "outputs": [],
   "source": [
    "# Masukkan path directory tempat menyimpan file CSV\n",
    "folder_path = '/Users/nahrowi/Documents/UGM/TesisSemhas/DataPolitikInstagram/'  # Ganti dengan path folder di mana file CSV disimpan"
   ]
  },
  {
   "cell_type": "code",
   "execution_count": 14,
   "id": "31641b53-f873-46ff-8bac-bf4d8928c170",
   "metadata": {},
   "outputs": [],
   "source": [
    "# membuat folder Data_Final\n",
    "output_folder = 'Data_gabungan_instagram_1'\n",
    "if not os.path.exists(output_folder):\n",
    "    os.makedirs(output_folder)\n"
   ]
  },
  {
   "cell_type": "code",
   "execution_count": 6,
   "id": "0976da20",
   "metadata": {},
   "outputs": [
    {
     "name": "stdout",
     "output_type": "stream",
     "text": [
      "Columns in megawati disadap kumparan.csv: Index(['id', 'username', 'text', 'created_at'], dtype='object')\n",
      "                  id     username  \\\n",
      "0  17980637888770181  dewiuwitwiw   \n",
      "1  17988277139592620     pakjanur   \n",
      "\n",
      "                                                text           created_at  \n",
      "0         Setiap hari nontonin sinema indosiar pasti  2024-10-29 03:34:32  \n",
      "1  Berarti kalo nongkrong di wc ga bawa hp? Apa e...  2024-10-29 08:26:06  \n",
      "Columns in komentar_instagram_ridwan_kamil.csv: Index(['id', 'username', 'text', 'created_at'], dtype='object')\n",
      "                  id     username  \\\n",
      "0  18023379044624235  pramonoaksa   \n",
      "1  18047338973501357  rokhim_moch   \n",
      "\n",
      "                                          text           created_at  \n",
      "0                                            😂  2024-11-14 12:21:13  \n",
      "1  Lama lama koq eneg ya baca semua lawakan RK  2024-11-14 12:22:50  \n",
      "Columns in jokowi memoles.csv: Index(['id', 'username', 'text', 'created_at'], dtype='object')\n",
      "                  id           username  \\\n",
      "0  18033394301337511  merry_triaanthony   \n",
      "1  18328865938199197  kasnarian.adinata   \n",
      "\n",
      "                                                text           created_at  \n",
      "0  Tidak takutkah dengan hari pembalasan Pa Mulyo...  2024-10-13 11:23:30  \n",
      "1  Ya ampunnn,, segitunyaa mulyono pengen diakhir...  2024-10-13 11:08:12  \n"
     ]
    }
   ],
   "source": [
    "for filename in os.listdir(folder_path):\n",
    "    if filename.endswith('.csv'):\n",
    "        file_path = os.path.join(folder_path, filename)\n",
    "        df = pd.read_csv(file_path)\n",
    "        print(f\"Columns in {filename}: {df.columns}\")\n",
    "        print(df.head(2))"
   ]
  },
  {
   "cell_type": "code",
   "execution_count": 15,
   "id": "c231e6fd",
   "metadata": {},
   "outputs": [
    {
     "name": "stdout",
     "output_type": "stream",
     "text": [
      "Reading megawati disadap kumparan.csv: (1063, 4)\n",
      "Reading komentar_instagram_ridwan_kamil.csv: (403, 4)\n",
      "Reading jokowi memoles.csv: (1341, 4)\n",
      "Final combined data shape: (2807, 4)\n",
      "                  id      username  \\\n",
      "0  17980637888770181   dewiuwitwiw   \n",
      "1  17988277139592620      pakjanur   \n",
      "2  18006676418491073  ibaymochamad   \n",
      "3  18009968459462036      rizkyrsl   \n",
      "4  18008667005651995   fikram_zain   \n",
      "\n",
      "                                                text           created_at  \n",
      "0         Setiap hari nontonin sinema indosiar pasti  2024-10-29 03:34:32  \n",
      "1  Berarti kalo nongkrong di wc ga bawa hp? Apa e...  2024-10-29 08:26:06  \n",
      "2          Itukan pilihan yah, knp kita ributin hehe  2024-10-29 05:30:46  \n",
      "3  Kebetulan buk, sutradara james bond sekarang l...  2024-10-29 05:23:20  \n",
      "4  Di umur segitu emang lagi seneng² nya becanda. 🤭🤣  2024-10-29 06:41:41  \n"
     ]
    }
   ],
   "source": [
    "# import os\n",
    "# import pandas as pd\n",
    "\n",
    "# Inisialisasi list untuk menyimpan data dari semua file CSV\n",
    "all_data = []\n",
    "\n",
    "# Path folder tempat file CSV\n",
    "# folder_path = \"path_to_your_folder\"  # Ganti dengan path folder Anda\n",
    "# output_folder = \"path_to_output_folder\"  # Ganti dengan path output\n",
    "\n",
    "# Kolom yang diharapkan\n",
    "expected_columns = ['id', 'username', 'text', 'created_at']\n",
    "\n",
    "# Loop untuk membaca semua file CSV di folder\n",
    "for filename in os.listdir(folder_path):\n",
    "    if filename.endswith('.csv'):\n",
    "        file_path = os.path.join(folder_path, filename)\n",
    "        \n",
    "        # Baca file dengan header di baris pertama\n",
    "        df = pd.read_csv(file_path, header=0)\n",
    "        print(f\"Reading {filename}: {df.shape}\")\n",
    "        \n",
    "        # Pastikan kolom sesuai dengan yang diharapkan\n",
    "        for col in expected_columns:\n",
    "            if col not in df.columns:\n",
    "                print(f\"Warning: Column '{col}' is missing in {filename}\")\n",
    "                df[col] = None  # Tambahkan kolom yang hilang dengan None\n",
    "        \n",
    "        # Urutkan kolom agar konsisten\n",
    "        df = df[expected_columns]\n",
    "        \n",
    "        # Tambahkan data ke dalam list\n",
    "        all_data.append(df)\n",
    "\n",
    "# Gabungkan semua DataFrame menjadi satu DataFrame besar\n",
    "combined_data = pd.concat(all_data, ignore_index=True)\n",
    "\n",
    "# Simpan hasil gabungan ke file CSV\n",
    "output_file_path = os.path.join(output_folder, 'data_politik_instagram_merge_1.csv')\n",
    "combined_data.to_csv(output_file_path, index=False)\n",
    "\n",
    "# Print beberapa baris dari hasil gabungan untuk pengecekan\n",
    "print(\"Final combined data shape:\", combined_data.shape)\n",
    "print(combined_data.head())"
   ]
  },
  {
   "cell_type": "code",
   "execution_count": 17,
   "id": "9f75f187-b5ff-4ef6-b8da-93e4930c6c01",
   "metadata": {},
   "outputs": [
    {
     "name": "stdout",
     "output_type": "stream",
     "text": [
      "                     id            username  \\\n",
      "0     17980637888770181         dewiuwitwiw   \n",
      "1     17988277139592620            pakjanur   \n",
      "2     18006676418491073        ibaymochamad   \n",
      "3     18009968459462036            rizkyrsl   \n",
      "4     18008667005651995         fikram_zain   \n",
      "...                 ...                 ...   \n",
      "2802  18142240585347818  muhammad_taufikgms   \n",
      "2803  18030677933094259       ukhti_dewipus   \n",
      "2804  17860445436202574   ahmad_ijuriansyah   \n",
      "2805  17982921710745398           taufikawr   \n",
      "2806  18051320845911274        max_load_g4s   \n",
      "\n",
      "                                                   text           created_at  \n",
      "0            Setiap hari nontonin sinema indosiar pasti  2024-10-29 03:34:32  \n",
      "1     Berarti kalo nongkrong di wc ga bawa hp? Apa e...  2024-10-29 08:26:06  \n",
      "2             Itukan pilihan yah, knp kita ributin hehe  2024-10-29 05:30:46  \n",
      "3     Kebetulan buk, sutradara james bond sekarang l...  2024-10-29 05:23:20  \n",
      "4     Di umur segitu emang lagi seneng² nya becanda. 🤭🤣  2024-10-29 06:41:41  \n",
      "...                                                 ...                  ...  \n",
      "2802  Maaf sya gpernah pilih org ini dari 2014 sampe...  2024-10-13 12:09:21  \n",
      "2803  beritanya gk masuk tempo yakinlah itu lagi pen...  2024-10-13 12:09:22  \n",
      "2804  tinggal menunggu hari !!!i  buzer nya pada pos...  2024-10-13 12:10:20  \n",
      "2805  Cape cape kerja, digunainnya buat kepentingan ...  2024-10-13 12:10:22  \n",
      "2806                        Posisi @gnfi @indozone.id 😂  2024-10-13 12:10:25  \n",
      "\n",
      "[2807 rows x 4 columns]\n"
     ]
    }
   ],
   "source": [
    "# melihat data \n",
    "print(combined_data)\n"
   ]
  },
  {
   "cell_type": "code",
   "execution_count": 9,
   "id": "22108a4a-81d5-444d-99dc-b639916e2d90",
   "metadata": {},
   "outputs": [],
   "source": [
    "# Menghapus duplikat berdasarkan seluruh kolom\n",
    "# df = df.drop_duplicates()"
   ]
  },
  {
   "cell_type": "code",
   "execution_count": 10,
   "id": "92c6d6db-e065-4f60-b27b-1287ec271928",
   "metadata": {},
   "outputs": [
    {
     "data": {
      "text/html": [
       "<div>\n",
       "<style scoped>\n",
       "    .dataframe tbody tr th:only-of-type {\n",
       "        vertical-align: middle;\n",
       "    }\n",
       "\n",
       "    .dataframe tbody tr th {\n",
       "        vertical-align: top;\n",
       "    }\n",
       "\n",
       "    .dataframe thead th {\n",
       "        text-align: right;\n",
       "    }\n",
       "</style>\n",
       "<table border=\"1\" class=\"dataframe\">\n",
       "  <thead>\n",
       "    <tr style=\"text-align: right;\">\n",
       "      <th></th>\n",
       "      <th>Comment</th>\n",
       "    </tr>\n",
       "  </thead>\n",
       "  <tbody>\n",
       "    <tr>\n",
       "      <th>0</th>\n",
       "      <td>Top sih</td>\n",
       "    </tr>\n",
       "    <tr>\n",
       "      <th>1</th>\n",
       "      <td>Orang hebat yang salah jalan, sayang banget</td>\n",
       "    </tr>\n",
       "    <tr>\n",
       "      <th>2</th>\n",
       "      <td>apakah suara 16% itu milik pak Mahfud ????</td>\n",
       "    </tr>\n",
       "    <tr>\n",
       "      <th>3</th>\n",
       "      <td>Dulu waktu bapak menkopulhukam, kenapa ga dibe...</td>\n",
       "    </tr>\n",
       "    <tr>\n",
       "      <th>4</th>\n",
       "      <td>Mantap</td>\n",
       "    </tr>\n",
       "    <tr>\n",
       "      <th>...</th>\n",
       "      <td>...</td>\n",
       "    </tr>\n",
       "    <tr>\n",
       "      <th>95</th>\n",
       "      <td>He Mput.. Kamu sudah tahu, kok selama ini diam...</td>\n",
       "    </tr>\n",
       "    <tr>\n",
       "      <th>96</th>\n",
       "      <td>Pelamggaran H A M dihapus???...makanya setiap ...</td>\n",
       "    </tr>\n",
       "    <tr>\n",
       "      <th>97</th>\n",
       "      <td>Sangat kotor nya Birokrasi</td>\n",
       "    </tr>\n",
       "    <tr>\n",
       "      <th>98</th>\n",
       "      <td>Waduh parah sih🤦🤦🤦</td>\n",
       "    </tr>\n",
       "    <tr>\n",
       "      <th>99</th>\n",
       "      <td>Gak kebayang pak mahfud jadi ketua KPK ❤</td>\n",
       "    </tr>\n",
       "  </tbody>\n",
       "</table>\n",
       "<p>100 rows × 1 columns</p>\n",
       "</div>"
      ],
      "text/plain": [
       "                                              Comment\n",
       "0                                             Top sih\n",
       "1         Orang hebat yang salah jalan, sayang banget\n",
       "2          apakah suara 16% itu milik pak Mahfud ????\n",
       "3   Dulu waktu bapak menkopulhukam, kenapa ga dibe...\n",
       "4                                              Mantap\n",
       "..                                                ...\n",
       "95  He Mput.. Kamu sudah tahu, kok selama ini diam...\n",
       "96  Pelamggaran H A M dihapus???...makanya setiap ...\n",
       "97                         Sangat kotor nya Birokrasi\n",
       "98                                 Waduh parah sih🤦🤦🤦\n",
       "99           Gak kebayang pak mahfud jadi ketua KPK ❤\n",
       "\n",
       "[100 rows x 1 columns]"
      ]
     },
     "execution_count": 10,
     "metadata": {},
     "output_type": "execute_result"
    }
   ],
   "source": [
    "# melihat data \n",
    "combined_data.head(100)"
   ]
  },
  {
   "cell_type": "code",
   "execution_count": 11,
   "id": "66fcd624-f1bb-487b-9c6e-0af502fc80c7",
   "metadata": {},
   "outputs": [
    {
     "data": {
      "text/plain": [
       "(95521, 1)"
      ]
     },
     "execution_count": 11,
     "metadata": {},
     "output_type": "execute_result"
    }
   ],
   "source": [
    "combined_data.shape"
   ]
  },
  {
   "cell_type": "code",
   "execution_count": 18,
   "id": "004696e4",
   "metadata": {},
   "outputs": [],
   "source": [
    "\n",
    "# Hapus kolom 'Likes' dan 'Reply Count'\n",
    "combined_data = combined_data.drop(columns=['id','username','created_at'])"
   ]
  },
  {
   "cell_type": "code",
   "execution_count": 19,
   "id": "540aa22c",
   "metadata": {},
   "outputs": [
    {
     "data": {
      "text/html": [
       "<div>\n",
       "<style scoped>\n",
       "    .dataframe tbody tr th:only-of-type {\n",
       "        vertical-align: middle;\n",
       "    }\n",
       "\n",
       "    .dataframe tbody tr th {\n",
       "        vertical-align: top;\n",
       "    }\n",
       "\n",
       "    .dataframe thead th {\n",
       "        text-align: right;\n",
       "    }\n",
       "</style>\n",
       "<table border=\"1\" class=\"dataframe\">\n",
       "  <thead>\n",
       "    <tr style=\"text-align: right;\">\n",
       "      <th></th>\n",
       "      <th>text</th>\n",
       "    </tr>\n",
       "  </thead>\n",
       "  <tbody>\n",
       "    <tr>\n",
       "      <th>0</th>\n",
       "      <td>Setiap hari nontonin sinema indosiar pasti</td>\n",
       "    </tr>\n",
       "    <tr>\n",
       "      <th>1</th>\n",
       "      <td>Berarti kalo nongkrong di wc ga bawa hp? Apa e...</td>\n",
       "    </tr>\n",
       "    <tr>\n",
       "      <th>2</th>\n",
       "      <td>Itukan pilihan yah, knp kita ributin hehe</td>\n",
       "    </tr>\n",
       "    <tr>\n",
       "      <th>3</th>\n",
       "      <td>Kebetulan buk, sutradara james bond sekarang l...</td>\n",
       "    </tr>\n",
       "    <tr>\n",
       "      <th>4</th>\n",
       "      <td>Di umur segitu emang lagi seneng² nya becanda. 🤭🤣</td>\n",
       "    </tr>\n",
       "    <tr>\n",
       "      <th>...</th>\n",
       "      <td>...</td>\n",
       "    </tr>\n",
       "    <tr>\n",
       "      <th>2802</th>\n",
       "      <td>Maaf sya gpernah pilih org ini dari 2014 sampe...</td>\n",
       "    </tr>\n",
       "    <tr>\n",
       "      <th>2803</th>\n",
       "      <td>beritanya gk masuk tempo yakinlah itu lagi pen...</td>\n",
       "    </tr>\n",
       "    <tr>\n",
       "      <th>2804</th>\n",
       "      <td>tinggal menunggu hari !!!i  buzer nya pada pos...</td>\n",
       "    </tr>\n",
       "    <tr>\n",
       "      <th>2805</th>\n",
       "      <td>Cape cape kerja, digunainnya buat kepentingan ...</td>\n",
       "    </tr>\n",
       "    <tr>\n",
       "      <th>2806</th>\n",
       "      <td>Posisi @gnfi @indozone.id 😂</td>\n",
       "    </tr>\n",
       "  </tbody>\n",
       "</table>\n",
       "<p>2807 rows × 1 columns</p>\n",
       "</div>"
      ],
      "text/plain": [
       "                                                   text\n",
       "0            Setiap hari nontonin sinema indosiar pasti\n",
       "1     Berarti kalo nongkrong di wc ga bawa hp? Apa e...\n",
       "2             Itukan pilihan yah, knp kita ributin hehe\n",
       "3     Kebetulan buk, sutradara james bond sekarang l...\n",
       "4     Di umur segitu emang lagi seneng² nya becanda. 🤭🤣\n",
       "...                                                 ...\n",
       "2802  Maaf sya gpernah pilih org ini dari 2014 sampe...\n",
       "2803  beritanya gk masuk tempo yakinlah itu lagi pen...\n",
       "2804  tinggal menunggu hari !!!i  buzer nya pada pos...\n",
       "2805  Cape cape kerja, digunainnya buat kepentingan ...\n",
       "2806                        Posisi @gnfi @indozone.id 😂\n",
       "\n",
       "[2807 rows x 1 columns]"
      ]
     },
     "execution_count": 19,
     "metadata": {},
     "output_type": "execute_result"
    }
   ],
   "source": [
    "combined_data"
   ]
  },
  {
   "cell_type": "code",
   "execution_count": 20,
   "id": "757e6169",
   "metadata": {},
   "outputs": [],
   "source": [
    "# Simpan hasil gabungan ke file CSV\n",
    "output_file_path = os.path.join(output_folder, 'data_politik_instagram_merge_1_no_column.csv')\n",
    "combined_data.to_csv(output_file_path, index=False)"
   ]
  }
 ],
 "metadata": {
  "kernelspec": {
   "display_name": "base",
   "language": "python",
   "name": "python3"
  },
  "language_info": {
   "codemirror_mode": {
    "name": "ipython",
    "version": 3
   },
   "file_extension": ".py",
   "mimetype": "text/x-python",
   "name": "python",
   "nbconvert_exporter": "python",
   "pygments_lexer": "ipython3",
   "version": "3.12.7"
  }
 },
 "nbformat": 4,
 "nbformat_minor": 5
}
