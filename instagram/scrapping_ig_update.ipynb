{
 "cells": [
  {
   "cell_type": "code",
   "execution_count": 1,
   "metadata": {},
   "outputs": [],
   "source": [
    "import instaloader\n",
    "import csv\n",
    "from instaloader import Post\n",
    "import emoji\n"
   ]
  },
  {
   "cell_type": "code",
   "execution_count": 2,
   "metadata": {},
   "outputs": [],
   "source": [
    "# Input dari user\n",
    "link_content = input(\"Masukkan link komentar Instagram: \")\n",
    "link_content = link_content.split(\"p/\")[1].split(\"/\")[0]\n",
    "nama = input(\"Masukkan nama file CSV: \")\n",
    "judul = input(\"Masukkan judul post atau konteks komentar: \")\n",
    "deskripsi = input(\"Masukkan deskripsi/konteks post: \")"
   ]
  },
  {
   "cell_type": "code",
   "execution_count": 3,
   "metadata": {},
   "outputs": [
    {
     "name": "stdout",
     "output_type": "stream",
     "text": [
      "Loaded session from /Users/nahrowi/.config/instaloader/session-herq890.\n",
      "Komentar telah disimpan ke dalam 'komentar_ada_yang_mau_2_putaran_dipilkada_jakarta.csv'\n"
     ]
    }
   ],
   "source": [
    "\n",
    "# Membuat instance Instaloader\n",
    "L = instaloader.Instaloader()\n",
    "\n",
    "# Memuat sesi yang telah disimpan\n",
    "L.load_session_from_file('herq890')\n",
    "\n",
    "# Mengambil shortcode dari postingan\n",
    "SHORTCODE = link_content\n",
    "\n",
    "# Membuat objek Post\n",
    "post = Post.from_shortcode(L.context, SHORTCODE)\n",
    "\n",
    "# Fungsi untuk mendeteksi emotikon\n",
    "def contains_emoticon(text):\n",
    "    return emoji.emoji_count(text) > 0\n",
    "\n",
    "# Mengambil komentar\n",
    "comments = []\n",
    "for comment in post.get_comments():\n",
    "    comments.append({\n",
    "        'judul': judul,\n",
    "        'konteks': deskripsi,\n",
    "        'komen': comment.text,\n",
    "        'apakah_komen_utama': \"TRUE\",  # Semua komentar ini dianggap utama karena tidak ada balasan\n",
    "        'dari_komen_utama': \"Tidak ada\",  # Tidak ada referensi balasan\n",
    "        'emoticon': \"TRUE\" if contains_emoticon(comment.text) else \"FALSE\",\n",
    "        'label': \"\"  # Label dibiarkan kosong untuk proses labeling manual\n",
    "    })\n",
    "\n",
    "# Menyimpan ke file CSV\n",
    "nama_file = f'komentar_{nama}.csv'\n",
    "with open(nama_file, mode='w', newline='', encoding='utf-8') as file:\n",
    "    fieldnames = ['judul', 'konteks', 'komen', 'apakah_komen_utama', 'dari_komen_utama', 'emoticon', 'label']\n",
    "    writer = csv.DictWriter(file, fieldnames=fieldnames)\n",
    "    writer.writeheader()\n",
    "    writer.writerows(comments)\n",
    "\n",
    "print(f\"Komentar telah disimpan ke dalam '{nama_file}'\")"
   ]
  }
 ],
 "metadata": {
  "kernelspec": {
   "display_name": "base",
   "language": "python",
   "name": "python3"
  },
  "language_info": {
   "codemirror_mode": {
    "name": "ipython",
    "version": 3
   },
   "file_extension": ".py",
   "mimetype": "text/x-python",
   "name": "python",
   "nbconvert_exporter": "python",
   "pygments_lexer": "ipython3",
   "version": "3.12.7"
  }
 },
 "nbformat": 4,
 "nbformat_minor": 2
}
