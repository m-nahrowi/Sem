{
 "cells": [
  {
   "cell_type": "code",
   "execution_count": 3,
   "metadata": {},
   "outputs": [
    {
     "name": "stdout",
     "output_type": "stream",
     "text": [
      "Error: Access token not found in response.\n",
      "{'error': 'invalid_request', 'error_description': 'Only `application/x-www-form-urlencoded` is accepted as Content-Type.', 'log_id': '2024112010140224E391865CE14F00D5C6'}\n"
     ]
    }
   ],
   "source": [
    "import requests\n",
    "\n",
    "# Step 1: Mendapatkan Access Token\n",
    "def get_access_token(client_key, client_secret):\n",
    "    url_token = \"https://open.tiktokapis.com/v2/oauth/token/\"\n",
    "    payload_token = {\n",
    "        \"client_key\": client_key,\n",
    "        \"client_secret\": client_secret,\n",
    "        \"grant_type\": \"client_credentials\"\n",
    "    }\n",
    "    \n",
    "    response_token = requests.post(url_token, json=payload_token)\n",
    "    \n",
    "    if response_token.status_code == 200:\n",
    "        access_token = response_token.json().get(\"access_token\")\n",
    "        if access_token:\n",
    "            print(f\"Access Token: {access_token}\")\n",
    "            return access_token\n",
    "        else:\n",
    "            print(\"Error: Access token not found in response.\")\n",
    "            print(response_token.json())\n",
    "            return None\n",
    "    else:\n",
    "        print(\"Gagal mendapatkan Access Token:\")\n",
    "        print(response_token.json())\n",
    "        return None\n",
    "\n",
    "\n",
    "# Step 2: Mengambil Data Komentar TikTok\n",
    "def get_video_comments(access_token, video_id, max_count=50):\n",
    "    url_comments = \"https://open.tiktokapis.com/v2/research/video/comment/list/\"\n",
    "    headers = {\n",
    "        \"Authorization\": f\"Bearer {access_token}\",\n",
    "        \"Content-Type\": \"application/json\"\n",
    "    }\n",
    "    payload_comments = {\n",
    "        \"video_id\": video_id,\n",
    "        \"fields\": \"id,text,like_count,create_time\",\n",
    "        \"max_count\": max_count\n",
    "    }\n",
    "    \n",
    "    response_comments = requests.post(url_comments, headers=headers, json=payload_comments)\n",
    "    \n",
    "    if response_comments.status_code == 200:\n",
    "        print(\"Data Komentar:\")\n",
    "        return response_comments.json()\n",
    "    else:\n",
    "        print(\"Gagal mengambil data komentar:\")\n",
    "        print(response_comments.json())\n",
    "        return None\n",
    "\n",
    "\n",
    "# Main Program\n",
    "if __name__ == \"__main__\":\n",
    "    # Ganti dengan Client Key dan Client Secret Anda\n",
    "    CLIENT_KEY = \"awrshpw5c0i0k3r9\"\n",
    "    CLIENT_SECRET = \"UcHkLerVJwtLe9jHQJyxsjg3yGlkVoEj\"\n",
    "    \n",
    "    # ID Video TikTok\n",
    "    VIDEO_ID = \"7438994612162727223\"  # Ganti dengan video ID yang valid\n",
    "    \n",
    "    # Mendapatkan Access Token\n",
    "    access_token = get_access_token(CLIENT_KEY, CLIENT_SECRET)\n",
    "    \n",
    "    if access_token:\n",
    "        # Mengambil Data Komentar\n",
    "        comments_data = get_video_comments(access_token, VIDEO_ID, max_count=50)\n",
    "        \n",
    "        if comments_data:\n",
    "            print(comments_data)"
   ]
  },
  {
   "cell_type": "code",
   "execution_count": null,
   "metadata": {},
   "outputs": [],
   "source": []
  },
  {
   "cell_type": "code",
   "execution_count": 2,
   "metadata": {},
   "outputs": [
    {
     "name": "stdout",
     "output_type": "stream",
     "text": [
      "Access Token: None\n",
      "Gagal mengambil data komentar:\n",
      "{'data': {}, 'error': {'code': 'access_token_invalid', 'message': 'The access token is invalid or not found in the request.', 'log_id': '202411201010498BCAB36A0E94B500C602'}}\n"
     ]
    }
   ],
   "source": [
    "import requests\n",
    "\n",
    "# Step 1: Mendapatkan Access Token\n",
    "url_token = \"https://open.tiktokapis.com/v2/oauth/token/\"\n",
    "payload_token = {\n",
    "    \"client_key\": \"awrshpw5c0i0k3r9\",  # Ganti dengan Client Key Anda\n",
    "    \"client_secret\": \"UcHkLerVJwtLe9jHQJyxsjg3yGlkVoEj\",  # Ganti dengan Client Secret Anda\n",
    "    \"grant_type\": \"client_credentials\"\n",
    "}\n",
    "\n",
    "response_token = requests.post(url_token, json=payload_token)\n",
    "\n",
    "if response_token.status_code == 200:\n",
    "    access_token = response_token.json().get(\"access_token\")\n",
    "    print(f\"Access Token: {access_token}\")\n",
    "else:\n",
    "    print(\"Gagal mendapatkan Access Token:\")\n",
    "    print(response_token.json())\n",
    "    exit()\n",
    "\n",
    "# Step 2: Mengambil Data Komentar TikTok\n",
    "url_comments = \"https://open.tiktokapis.com/v2/research/video/comment/list/\"\n",
    "headers = {\n",
    "    \"Authorization\": f\"Bearer {access_token}\",\n",
    "    \"Content-Type\": \"application/json\"\n",
    "}\n",
    "\n",
    "payload_comments = {\n",
    "    \"video_id\": \"7438994612162727223\",  # Ganti dengan ID video TikTok yang ingin diambil komentarnya\n",
    "    \"fields\": \"id,text,like_count,create_time\",\n",
    "    \"max_count\": 50  # Jumlah komentar yang ingin diambil\n",
    "}\n",
    "\n",
    "response_comments = requests.post(url_comments, headers=headers, json=payload_comments)\n",
    "\n",
    "if response_comments.status_code == 200:\n",
    "    comments_data = response_comments.json()\n",
    "    print(\"Data Komentar:\")\n",
    "    print(comments_data)\n",
    "else:\n",
    "    print(\"Gagal mengambil data komentar:\")\n",
    "    print(response_comments.json())"
   ]
  }
 ],
 "metadata": {
  "kernelspec": {
   "display_name": "base",
   "language": "python",
   "name": "python3"
  },
  "language_info": {
   "codemirror_mode": {
    "name": "ipython",
    "version": 3
   },
   "file_extension": ".py",
   "mimetype": "text/x-python",
   "name": "python",
   "nbconvert_exporter": "python",
   "pygments_lexer": "ipython3",
   "version": "3.12.7"
  }
 },
 "nbformat": 4,
 "nbformat_minor": 2
}
