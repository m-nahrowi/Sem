{
 "cells": [
  {
   "cell_type": "markdown",
   "metadata": {},
   "source": [
    "# Latihan kode python"
   ]
  },
  {
   "cell_type": "code",
   "execution_count": 7,
   "metadata": {},
   "outputs": [],
   "source": [
    "# calculator\n",
    "def calculator(number_1, number_2, operator):\n",
    "    result = 0\n",
    "    if operator == \"+\":\n",
    "        result = number_1 + number_2\n",
    "    elif operator == \"-\":\n",
    "        result = number_1 - number_2\n",
    "    else:\n",
    "        print(\"kamu salah input\")\n",
    "    print(result)\n"
   ]
  },
  {
   "cell_type": "code",
   "execution_count": 8,
   "metadata": {},
   "outputs": [
    {
     "name": "stdout",
     "output_type": "stream",
     "text": [
      "10\n"
     ]
    }
   ],
   "source": [
    "calculator(3, 7, \"+\")"
   ]
  },
  {
   "cell_type": "code",
   "execution_count": 36,
   "metadata": {},
   "outputs": [],
   "source": [
    "class Hero:\n",
    "    def __init__(self, name, power, health):\n",
    "        self.name = name\n",
    "        self.power = power\n",
    "        self.health = health\n",
    "    \n",
    "    def Hero_identitas(self):\n",
    "        print(f\"this data of hero :\\nname : {self.name}\\npower : {self.power}\\nhealth : {self.health}\")"
   ]
  },
  {
   "cell_type": "code",
   "execution_count": 37,
   "metadata": {},
   "outputs": [],
   "source": [
    "Budi = Hero(\"Budi\", 800, 200)"
   ]
  },
  {
   "cell_type": "code",
   "execution_count": 38,
   "metadata": {},
   "outputs": [
    {
     "data": {
      "text/plain": [
       "800"
      ]
     },
     "execution_count": 38,
     "metadata": {},
     "output_type": "execute_result"
    }
   ],
   "source": [
    "Budi.power"
   ]
  },
  {
   "cell_type": "code",
   "execution_count": 40,
   "metadata": {},
   "outputs": [
    {
     "name": "stdout",
     "output_type": "stream",
     "text": [
      "this data of hero :\n",
      "name : Budi\n",
      "power : 800\n",
      "health : 200\n"
     ]
    }
   ],
   "source": [
    "Budi.Hero_identitas()"
   ]
  },
  {
   "cell_type": "code",
   "execution_count": 9,
   "metadata": {},
   "outputs": [],
   "source": [
    "# while True:\n",
    "#     mau = input(\"apakah kamu mau menghitung? \")\n",
    "#     if mau == \"iya\":\n",
    "#         calculator()\n",
    "#     else:\n",
    "#         pass"
   ]
  }
 ],
 "metadata": {
  "kernelspec": {
   "display_name": "base",
   "language": "python",
   "name": "python3"
  },
  "language_info": {
   "codemirror_mode": {
    "name": "ipython",
    "version": 3
   },
   "file_extension": ".py",
   "mimetype": "text/x-python",
   "name": "python",
   "nbconvert_exporter": "python",
   "pygments_lexer": "ipython3",
   "version": "3.12.7"
  }
 },
 "nbformat": 4,
 "nbformat_minor": 2
}
