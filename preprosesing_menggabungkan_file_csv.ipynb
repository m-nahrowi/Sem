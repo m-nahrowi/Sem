{
 "cells": [
  {
   "cell_type": "code",
   "execution_count": 2,
   "id": "02ac20fd-9544-45ff-a706-f24956c9bfbf",
   "metadata": {},
   "outputs": [],
   "source": [
    "# menggabungangkan file csv\n",
    "\n",
    "import os\n",
    "import pandas as pd"
   ]
  },
  {
   "cell_type": "code",
   "execution_count": 3,
   "id": "ea089317-5981-44ba-b5d8-1e5e876b7ab1",
   "metadata": {},
   "outputs": [
    {
     "name": "stdout",
     "output_type": "stream",
     "text": [
      "/Users/nahrowi/Documents/UGM/TesisSemhas\n"
     ]
    }
   ],
   "source": [
    "# lokasi data\n",
    "current_dir = os.getcwd()\n",
    "print(current_dir)"
   ]
  },
  {
   "cell_type": "code",
   "execution_count": 4,
   "id": "9583f7e4-0262-4fa8-8e2f-fbd47875c316",
   "metadata": {},
   "outputs": [],
   "source": [
    "# Masukkan path directory tempat menyimpan file CSV\n",
    "folder_path = '/Users/nahrowi/Documents/UGM/TesisSemhas/DataPolitikYoutube'  # Ganti dengan path folder di mana file CSV disimpan"
   ]
  },
  {
   "cell_type": "code",
   "execution_count": 5,
   "id": "31641b53-f873-46ff-8bac-bf4d8928c170",
   "metadata": {},
   "outputs": [],
   "source": [
    "# membuat folder Data_Final\n",
    "output_folder = 'Data_gabungan_yt_1'\n",
    "if not os.path.exists(output_folder):\n",
    "    os.makedirs(output_folder)\n"
   ]
  },
  {
   "cell_type": "code",
   "execution_count": 6,
   "id": "25c42412-e12f-45d8-bdb7-4352e88c914d",
   "metadata": {},
   "outputs": [],
   "source": [
    "# # Inisialisasi list untuk menyimpan data dari semua file CSV\n",
    "# all_data = []\n",
    "\n",
    "# # Loop untuk membaca semua file CSV di folder\n",
    "# for filename in os.listdir(folder_path):\n",
    "#     if filename.endswith('.csv'):\n",
    "#         file_path = os.path.join(folder_path, filename)\n",
    "#         # Baca setiap file CSV\n",
    "#         df = pd.read_csv(file_path)\n",
    "#         # Tambahkan data ke dalam list\n",
    "#         all_data.append(df)\n",
    "\n",
    "# # Gabungkan semua DataFrame menjadi satu DataFrame besar\n",
    "# combined_data = pd.concat(all_data, ignore_index=True)\n",
    "\n",
    "# # Tambahkan kolom ID yang berurutan dari 1 hingga jumlah total komentar\n",
    "# combined_data['ID'] = range(1, len(combined_data) + 1)\n",
    "\n",
    "# # Tentukan path untuk menyimpan file gabungan\n",
    "# output_file_path = os.path.join(output_folder, 'combined_video_black_myth_wukong.csv')\n",
    "\n",
    "# # Simpan hasil gabungan ke file CSV di folder Data_Final\n",
    "# combined_data.to_csv(output_file_path, index=False)\n",
    "\n",
    "# # Print beberapa baris dari hasil gabungan untuk pengecekan\n",
    "# print(combined_data.head())"
   ]
  },
  {
   "cell_type": "code",
   "execution_count": null,
   "id": "0136a38f-b750-4dbf-b995-1712d020cfae",
   "metadata": {},
   "outputs": [
    {
     "name": "stdout",
     "output_type": "stream",
     "text": [
      "                                             Comment\n",
      "0                                            Top sih\n",
      "1        Orang hebat yang salah jalan, sayang banget\n",
      "2         apakah suara 16% itu milik pak Mahfud ????\n",
      "3  Dulu waktu bapak menkopulhukam, kenapa ga dibe...\n",
      "4                                             Mantap\n"
     ]
    }
   ],
   "source": [
    "# Inisialisasi list untuk menyimpan data dari semua file CSV\n",
    "all_data = []\n",
    "\n",
    "# Flag untuk menentukan apakah ini file pertama\n",
    "is_first_file = True\n",
    "\n",
    "# Loop untuk membaca semua file CSV di folder\n",
    "for filename in os.listdir(folder_path):\n",
    "    if filename.endswith('.csv'):\n",
    "        file_path = os.path.join(folder_path, filename)\n",
    "        \n",
    "        if is_first_file:\n",
    "            # Baca file pertama secara normal\n",
    "            df = pd.read_csv(file_path, header=1)\n",
    "            is_first_file = False\n",
    "        else:\n",
    "            # Lewati baris pertama (header) untuk file berikutnya\n",
    "            df = pd.read_csv(file_path, header=0, skiprows=1)\n",
    "        \n",
    "        # Tambahkan data ke dalam list\n",
    "        all_data.append(df)\n",
    "\n",
    "# Gabungkan semua DataFrame menjadi satu DataFrame besar\n",
    "combined_data = pd.concat(all_data, ignore_index=False)\n",
    "\n",
    "# # Tambahkan kolom ID yang berurutan dari 1 hingga jumlah total komentar\n",
    "# combined_data['ID'] = range(1, len(combined_data) + 1)\n",
    "\n",
    "# Hapus kolom 'Likes' dan 'Reply Count'\n",
    "combined_data = combined_data.drop(columns=['Name','Time','Likes', 'Reply Count'])\n",
    "\n",
    "# Tentukan path untuk menyimpan file gabungan\n",
    "output_file_path = os.path.join(output_folder, 'data_politik_youtube_merge_1.csv')\n",
    "\n",
    "# Simpan hasil gabungan ke file CSV di folder Data_Final\n",
    "combined_data.to_csv(output_file_path, index=False)\n",
    "\n",
    "# Print beberapa baris dari hasil gabungan untuk pengecekan\n",
    "print(combined_data.head())\n"
   ]
  },
  {
   "cell_type": "code",
   "execution_count": 7,
   "id": "9f75f187-b5ff-4ef6-b8da-93e4930c6c01",
   "metadata": {},
   "outputs": [
    {
     "name": "stdout",
     "output_type": "stream",
     "text": [
      "                                                Comment\n",
      "0                                               Top sih\n",
      "1           Orang hebat yang salah jalan, sayang banget\n",
      "2            apakah suara 16% itu milik pak Mahfud ????\n",
      "3     Dulu waktu bapak menkopulhukam, kenapa ga dibe...\n",
      "4                                                Mantap\n",
      "...                                                 ...\n",
      "2376                                                  🗿\n",
      "2377                                                _🗿_\n",
      "2378                                                 🗿❤\n",
      "2379                                                Hei\n",
      "2380  Top comments niii\\nMantapp tekotok asal gak su...\n",
      "\n",
      "[95521 rows x 1 columns]\n"
     ]
    }
   ],
   "source": [
    "# melihat data \n",
    "print(combined_data)\n"
   ]
  },
  {
   "cell_type": "code",
   "execution_count": 9,
   "id": "22108a4a-81d5-444d-99dc-b639916e2d90",
   "metadata": {},
   "outputs": [],
   "source": [
    "# Menghapus duplikat berdasarkan seluruh kolom\n",
    "# df = df.drop_duplicates()"
   ]
  },
  {
   "cell_type": "code",
   "execution_count": 10,
   "id": "92c6d6db-e065-4f60-b27b-1287ec271928",
   "metadata": {},
   "outputs": [
    {
     "data": {
      "text/html": [
       "<div>\n",
       "<style scoped>\n",
       "    .dataframe tbody tr th:only-of-type {\n",
       "        vertical-align: middle;\n",
       "    }\n",
       "\n",
       "    .dataframe tbody tr th {\n",
       "        vertical-align: top;\n",
       "    }\n",
       "\n",
       "    .dataframe thead th {\n",
       "        text-align: right;\n",
       "    }\n",
       "</style>\n",
       "<table border=\"1\" class=\"dataframe\">\n",
       "  <thead>\n",
       "    <tr style=\"text-align: right;\">\n",
       "      <th></th>\n",
       "      <th>Comment</th>\n",
       "    </tr>\n",
       "  </thead>\n",
       "  <tbody>\n",
       "    <tr>\n",
       "      <th>0</th>\n",
       "      <td>Top sih</td>\n",
       "    </tr>\n",
       "    <tr>\n",
       "      <th>1</th>\n",
       "      <td>Orang hebat yang salah jalan, sayang banget</td>\n",
       "    </tr>\n",
       "    <tr>\n",
       "      <th>2</th>\n",
       "      <td>apakah suara 16% itu milik pak Mahfud ????</td>\n",
       "    </tr>\n",
       "    <tr>\n",
       "      <th>3</th>\n",
       "      <td>Dulu waktu bapak menkopulhukam, kenapa ga dibe...</td>\n",
       "    </tr>\n",
       "    <tr>\n",
       "      <th>4</th>\n",
       "      <td>Mantap</td>\n",
       "    </tr>\n",
       "    <tr>\n",
       "      <th>...</th>\n",
       "      <td>...</td>\n",
       "    </tr>\n",
       "    <tr>\n",
       "      <th>95</th>\n",
       "      <td>He Mput.. Kamu sudah tahu, kok selama ini diam...</td>\n",
       "    </tr>\n",
       "    <tr>\n",
       "      <th>96</th>\n",
       "      <td>Pelamggaran H A M dihapus???...makanya setiap ...</td>\n",
       "    </tr>\n",
       "    <tr>\n",
       "      <th>97</th>\n",
       "      <td>Sangat kotor nya Birokrasi</td>\n",
       "    </tr>\n",
       "    <tr>\n",
       "      <th>98</th>\n",
       "      <td>Waduh parah sih🤦🤦🤦</td>\n",
       "    </tr>\n",
       "    <tr>\n",
       "      <th>99</th>\n",
       "      <td>Gak kebayang pak mahfud jadi ketua KPK ❤</td>\n",
       "    </tr>\n",
       "  </tbody>\n",
       "</table>\n",
       "<p>100 rows × 1 columns</p>\n",
       "</div>"
      ],
      "text/plain": [
       "                                              Comment\n",
       "0                                             Top sih\n",
       "1         Orang hebat yang salah jalan, sayang banget\n",
       "2          apakah suara 16% itu milik pak Mahfud ????\n",
       "3   Dulu waktu bapak menkopulhukam, kenapa ga dibe...\n",
       "4                                              Mantap\n",
       "..                                                ...\n",
       "95  He Mput.. Kamu sudah tahu, kok selama ini diam...\n",
       "96  Pelamggaran H A M dihapus???...makanya setiap ...\n",
       "97                         Sangat kotor nya Birokrasi\n",
       "98                                 Waduh parah sih🤦🤦🤦\n",
       "99           Gak kebayang pak mahfud jadi ketua KPK ❤\n",
       "\n",
       "[100 rows x 1 columns]"
      ]
     },
     "execution_count": 10,
     "metadata": {},
     "output_type": "execute_result"
    }
   ],
   "source": [
    "# melihat data \n",
    "combined_data.head(100)"
   ]
  },
  {
   "cell_type": "code",
   "execution_count": 11,
   "id": "66fcd624-f1bb-487b-9c6e-0af502fc80c7",
   "metadata": {},
   "outputs": [
    {
     "data": {
      "text/plain": [
       "(95521, 1)"
      ]
     },
     "execution_count": 11,
     "metadata": {},
     "output_type": "execute_result"
    }
   ],
   "source": [
    "combined_data.shape"
   ]
  },
  {
   "cell_type": "code",
   "execution_count": null,
   "id": "004696e4",
   "metadata": {},
   "outputs": [],
   "source": []
  }
 ],
 "metadata": {
  "kernelspec": {
   "display_name": "base",
   "language": "python",
   "name": "python3"
  },
  "language_info": {
   "codemirror_mode": {
    "name": "ipython",
    "version": 3
   },
   "file_extension": ".py",
   "mimetype": "text/x-python",
   "name": "python",
   "nbconvert_exporter": "python",
   "pygments_lexer": "ipython3",
   "version": "3.12.7"
  }
 },
 "nbformat": 4,
 "nbformat_minor": 5
}
